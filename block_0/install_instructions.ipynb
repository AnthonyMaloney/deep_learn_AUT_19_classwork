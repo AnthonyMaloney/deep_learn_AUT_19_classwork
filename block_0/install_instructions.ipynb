{
 "cells": [
  {
   "cell_type": "markdown",
   "metadata": {
    "toc-hr-collapsed": true
   },
   "source": [
    "# 2. Install Fest"
   ]
  },
  {
   "cell_type": "markdown",
   "metadata": {},
   "source": [
    "## 2.1 Python3"
   ]
  },
  {
   "cell_type": "markdown",
   "metadata": {},
   "source": [
    "This course will use Python3. Specifically I recommend using python 3.6. You can use whatever version you like prior to Python3.7 as tensorflow (as at this very moment) does not support it. Perhaps midway through the course it will but let's not deal with version changes mid way through a course. Python3.6 it is. \n",
    "\n"
   ]
  },
  {
   "cell_type": "markdown",
   "metadata": {
    "toc-hr-collapsed": true
   },
   "source": [
    "### 2.1.1 Mac Users"
   ]
  },
  {
   "cell_type": "markdown",
   "metadata": {},
   "source": [
    "#### 2.1.1.1 Background: Terminal"
   ]
  },
  {
   "cell_type": "markdown",
   "metadata": {},
   "source": [
    "For mac it is relatively straightforward since you have access to terminal. If you are not familiar with this, I strongly recommend you get yourself familiar with terminal. Wouldn't you know it, there is a convenient datacamp course that covers the basics:\n",
    "\n",
    "* https://www.datacamp.com/courses/introduction-to-shell-for-data-science\n",
    "\n",
    "I personally am a large fan of Iterm2 as you can have split windows, one with perhaps `htop` and some others with your various folders, your jupyterlab notebook server and even a git/github terminal. \n",
    "\n",
    "* Iterm https://www.iterm2.com/\n",
    "* htop https://hisham.hm/htop/\n",
    "\n",
    "Remind me in class to show you all the magic of the bash profile and aliases. If you have not configured this yet - it will change your life ;) \n",
    "\n",
    "* https://mijingo.com/blog/creating-bash-aliases"
   ]
  },
  {
   "cell_type": "markdown",
   "metadata": {},
   "source": [
    "Here are a bunch of extra resources to get you up to speed with terminal fast:\n",
    "* Mac terminal cheat sheet https://github.com/0nn0/terminal-mac-cheatsheet\n",
    "* Terminal tutorials https://quickleft.com/blog/tag/command-line/page/4/"
   ]
  },
  {
   "cell_type": "markdown",
   "metadata": {},
   "source": [
    "#### 2.1.1.2 Homebrew method"
   ]
  },
  {
   "cell_type": "markdown",
   "metadata": {},
   "source": [
    "You can manage python versions with homebrew. However is likely going to be annoying and force you to use python 3.7 since it wants you to have updated versions. If you really want to use homebrew to manage Python then you can do some trickery to get it to work:\n",
    "\n",
    "* https://stackoverflow.com/questions/51125013/how-can-i-install-a-previous-version-of-python-3-in-macos-using-homebrew\n",
    "\n",
    "(There are a few more articles floating around with these tutorials but you get the drift)\n",
    "\n",
    "I personally tried this method but found it very difficult and annoying and only partly worked. "
   ]
  },
  {
   "cell_type": "markdown",
   "metadata": {},
   "source": [
    "#### 2.1.1.3 (Advanced - Recommended) Virtual Environments Method"
   ]
  },
  {
   "cell_type": "markdown",
   "metadata": {},
   "source": [
    "This is the method that I have currently settled on. I use python virtual environments which are a very popular way to handle contained versions of python with the packages (and package versions) that you want. \n",
    "\n",
    "This is for more advanced users who are comfortable with terminal and a unix system but overall I think this is one of the better methods.\n",
    "\n",
    "* https://medium.freecodecamp.org/manage-multiple-python-versions-and-virtual-environments-venv-pyenv-pyvenv-a29fb00c296f\n",
    "* https://realpython.com/python-virtual-environments-a-primer/\n",
    "\n",
    "You can launch your notebooks using whatever version you like (and you can add a shortcut in your bash profile!)\n",
    "\n",
    "For reference, here is how I go straight into my `ml-env` that I have configured for data science work (Python 3.6 and standard packages installed). I use the following bash profile alias:\n",
    "\n",
    "`alias pyvnvml='cd /Users/scriven/Dropbox/Dev/py-vms && source ml-env/bin/activate'`\n"
   ]
  },
  {
   "cell_type": "markdown",
   "metadata": {
    "toc-hr-collapsed": true
   },
   "source": [
    "### 2.1.2 Windows & Mac Users"
   ]
  },
  {
   "cell_type": "markdown",
   "metadata": {},
   "source": [
    "Possibly the environments way can be accomplished on Windows through its terminal or perhaps with the Ubuntu subsystem available in W10. I cannot provide more technical advice on this so I would recommend simply using the Conda method below for Windows users."
   ]
  },
  {
   "cell_type": "markdown",
   "metadata": {},
   "source": [
    "#### 2.1.2.1 (Easy - Recommended) Conda Method"
   ]
  },
  {
   "cell_type": "markdown",
   "metadata": {},
   "source": [
    "Conda is the easiest and quickest way to get Python, manage your packages and have everything in a nice and neat place.\n",
    "\n",
    "* https://www.anaconda.com/distribution/\n",
    "\n",
    "This will also ship with Jupyter, Jupyter Lab and a bunch of useful data science packages all installed at once! \n",
    "\n",
    "You can also easily manage your environments with a graphical user interface if you are still not a fan of terminal\n",
    "\n",
    "* https://docs.anaconda.com/anaconda/navigator/tutorials/use-multiple-python-versions/\n",
    "\n",
    "Or alternatively you can just ask it to use an older version of Python without using an environment. But note that even they recommend having environments. It is nice to keep things separate.\n",
    "\n",
    "* https://docs.anaconda.com/anaconda/user-guide/faq/#anaconda-faq-35"
   ]
  },
  {
   "cell_type": "markdown",
   "metadata": {},
   "source": [
    "There is also some notes out there about the efficiency of tensorflow installed with pip vs with conda. For this course we likely won't be doing anything so intense as for this to really be a huge impact but this would be another argument for simply using Conda as the default option.\n",
    "\n",
    "* https://towardsdatascience.com/stop-installing-tensorflow-using-pip-for-performance-sake-5854f9d9eb0c"
   ]
  },
  {
   "cell_type": "markdown",
   "metadata": {},
   "source": [
    "## 2.2 Packages"
   ]
  },
  {
   "cell_type": "markdown",
   "metadata": {},
   "source": [
    "For Week 0 you do not need anything other than 'base' python.\n",
    "\n",
    "Though if you want to get all the installing done at once you can get a few extra things done now.\n",
    "\n",
    "If you use the conda method there will not be anything additional to install at this stage, the core data science packages ship with it. You may want to install `plotly` if you want to play with some advanced visualisations.\n",
    "\n",
    "Though if you are using the Pip/pypi way of managing packages, some ones you will need in weeks 1 and 2 are:\n",
    "\n",
    "* Pandas\n",
    "* Numpy\n",
    "* Matplotlib\n",
    "* Scipy/statsmodels"
   ]
  },
  {
   "cell_type": "markdown",
   "metadata": {},
   "source": [
    "## 2.3 Jupyter & Jupyterlab"
   ]
  },
  {
   "cell_type": "markdown",
   "metadata": {},
   "source": [
    "### 2.3.1 Introduction"
   ]
  },
  {
   "cell_type": "markdown",
   "metadata": {},
   "source": [
    "Jupyter notebooks sit somewhere between a traditional text editor and a full IDE. They are essentially browser-based documents that allow you to mix code, visualisations, markdown and other content in an easily presentable and navigable format. Jupyter notebooks have become incredibly popular for data science work in recent years because they make it very easy to mix content and code in a way that makes analytical work presentation-ready almost instantly. Presenting data science and analytical work is about weaving a story about the work undertaken and the results found. This tool helps do this rather nicely."
   ]
  },
  {
   "cell_type": "markdown",
   "metadata": {},
   "source": [
    "Compared to a traditional programming script that utilises comments and is run all at once, Jupyter notebooks have the great feature of having isolated ‘cells’ that can be either markdown, text or code. Therefore rather than separating code with spaces, hashes or some other internal methods you can have distinct, separate sections that you can run and re-run easily without having to highlight and read into the console. Recipients of the notebook can navigate through the code and feel closer to the work that was completed. "
   ]
  },
  {
   "cell_type": "markdown",
   "metadata": {},
   "source": [
    "Additionally in early 2018, Jupyter Labs came out of Beta for public use. This extends the typical Jupyter interface to have a files pane, optional split windows and built in consoles for whichever kernels you have installed. Personally I use this heavily for exploratory analytics work, documenting my own scripts and notes as well as sharing technical work where there is a need to tell a story. There are new add-ons and features being released weekly for this and it is a huge community effort.\n",
    "\n",
    "Due to its young age and open-source, community driven nature it isn’t perfect and there are bugs here and there but the future is looking bright and promising for Jupyter lab. \n",
    "\n",
    "Of course, Jupyter is not without its limitations. Some are very vocal about the lack of auto code complete and ‘linting’ (running a process in the background automatically to check your code for errors and stylistic problems) as well as technical issues associated with the ability to run code out of order and maintain a clean state. \n",
    "\n",
    "What I'd like to emphasise is that given the diverse nature of the work that data scientists do, it is advisable to get comfortable with a number of different tools and so take this opportunity to try out Jupyter and especially Jupyterlab. Your assignments will be submitted in this format."
   ]
  },
  {
   "cell_type": "markdown",
   "metadata": {},
   "source": [
    "As you work through this (and perhaps other) courses I would encourage you to build your own notebooks to refer back to. My own toolbox is one of my most important possessions from a professional perspective."
   ]
  },
  {
   "cell_type": "markdown",
   "metadata": {},
   "source": [
    "You can install yourself via the link below but remember that both these ship with anaconda:\n",
    "\n",
    "* https://jupyterlab.readthedocs.io/en/stable/getting_started/installation.html"
   ]
  },
  {
   "cell_type": "markdown",
   "metadata": {},
   "source": [
    "### 2.3.2 Add ons"
   ]
  },
  {
   "cell_type": "markdown",
   "metadata": {},
   "source": [
    "As noted, one of the best parts of Jupyter lab is the new add ons that are getting created. Below are some of my favourites, feel free to find more interesting ones and share with the slack channel!\n",
    "\n",
    "* https://github.com/lckr/jupyterlab-variableInspector\n",
    "* https://github.com/ian-r-rose/jupyterlab-toc (**strongly recommend this one**)\n",
    "\n",
    "The TOC add on actually will automatically make your TOC based on the number of `#` you use in markdown title cells but since not everyone has this I will still manually input the numbers. But it certainly makes a difference when you want to go back and insert something into a larger notebook!"
   ]
  },
  {
   "cell_type": "markdown",
   "metadata": {},
   "source": [
    "* How to set this up, handy extensions (like TOC and variable inspector)\n",
    "* Emphasise you can use whatever text editor and IDE you want (Atom, VScode, Pycharm) but this is good for education and sharing"
   ]
  },
  {
   "cell_type": "markdown",
   "metadata": {},
   "source": [
    "## 2.4 Other tech (IDEs?)"
   ]
  },
  {
   "cell_type": "markdown",
   "metadata": {},
   "source": [
    "I wish to importantly add a note here that you are not restricted in what programs you use to take notes, undertake exercises and generally learn in this course. I use a variety of text editors and IDEs for different purposes and it is important you find your own rythm. I will require consistency when submitting assignments but if you wish to do the bulk of the other work in another IDE that is fine. Below are some other programs I use in my general work that tends to be heavily python based for your interest.\n",
    "\n",
    "* Pycharm (free with student license)\n",
    "    * This is all the bells and whistles. You can manage environments, it has a console, version control functions and everything else you could need. This is aimed at larger scale python _development_ and hence I do use this for data science work but more heavily for scripting or work that needs to be more functional than viewable and shareable.\n",
    "* Atom\n",
    "    * A fantastic, free, lightweight (sometimes...) and indefinitely extensible text editor with many add ons. Very large community. I use this to manage general and quick text editing since pycharm takes a bit of resources to load up, as does a notebook server.\n",
    "* Visual Studio Code\n",
    "    * I know, many would begrudge this due to it being a microsoft product but it is actually a fantastic editor. Given Microsoft's acquisition of Atom there is talk/fear around the place that Atom will eventually be phased out in place of this editor so it is worth a look. Many add ons and large community and huge spike in popularity of recent months.\n",
    "* Spyder\n",
    "    * I don't use this but it ships with Conda and looks just like Rstudio so if that is your thing - go for it!"
   ]
  }
 ],
 "metadata": {
  "kernelspec": {
   "display_name": "Python 3",
   "language": "python",
   "name": "python3"
  },
  "language_info": {
   "codemirror_mode": {
    "name": "ipython",
    "version": 3
   },
   "file_extension": ".py",
   "mimetype": "text/x-python",
   "name": "python",
   "nbconvert_exporter": "python",
   "pygments_lexer": "ipython3",
   "version": "3.6.5"
  },
  "toc-autonumbering": false
 },
 "nbformat": 4,
 "nbformat_minor": 2
}
